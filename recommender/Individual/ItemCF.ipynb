{
 "cells": [
  {
   "cell_type": "markdown",
   "id": "consolidated-identifier",
   "metadata": {},
   "source": [
    "#### Import packages"
   ]
  },
  {
   "cell_type": "code",
   "execution_count": 1,
   "id": "invisible-nelson",
   "metadata": {},
   "outputs": [],
   "source": [
    "import numpy as np\n",
    "import pandas as pd\n",
    "\n",
    "from pandas.api.types import CategoricalDtype\n",
    "from scipy.sparse import csr_matrix\n",
    "from sklearn.neighbors import NearestNeighbors"
   ]
  },
  {
   "cell_type": "markdown",
   "id": "ideal-pastor",
   "metadata": {},
   "source": [
    "#### Load and preprocess data "
   ]
  },
  {
   "cell_type": "code",
   "execution_count": 5,
   "id": "lasting-leone",
   "metadata": {},
   "outputs": [],
   "source": [
    "url = 'https://raw.githubusercontent.com/utkuarslan5/the_recommenders/main/export/songs.csv'\n",
    "df = pd.read_csv(url)\n",
    "\n",
    "# drop useless columns\n",
    "df.drop(['Unnamed: 0'], axis=1, inplace=True)\n",
    "\n",
    "# generate playlist and song ids\n",
    "df['tid'] = pd.factorize(df.track_name + df.artist_name + df.album_name)[0]\n",
    "\n",
    "# remove duplicate songs from the same playlist\n",
    "df.drop_duplicates(subset=['pid', 'tid'], inplace=True)\n",
    "df.sort_values(by=['pid', 'tid'])\n",
    "\n",
    "# add prefixes to playlist and tracks ids\n",
    "df['pid'] = 'pid_' + df['pid'].astype(str)\n",
    "df['tid'] = 'tid_' + df['tid'].astype(str)\n",
    "\n",
    "# add column to keep track of playlist-track pairs\n",
    "df['count'] = 1"
   ]
  },
  {
   "cell_type": "code",
   "execution_count": null,
   "id": "criminal-plasma",
   "metadata": {},
   "outputs": [],
   "source": [
    "df"
   ]
  },
  {
   "cell_type": "markdown",
   "id": "invisible-memphis",
   "metadata": {},
   "source": [
    "#### Number of unique songs and playlists"
   ]
  },
  {
   "cell_type": "code",
   "execution_count": null,
   "id": "organized-fishing",
   "metadata": {},
   "outputs": [],
   "source": [
    "print('Unique playlists: ', df['pid'].nunique())\n",
    "print('Unique songs: ', df['tid'].nunique())"
   ]
  },
  {
   "cell_type": "markdown",
   "id": "alpine-brighton",
   "metadata": {},
   "source": [
    "#### Lengths of playlists"
   ]
  },
  {
   "cell_type": "code",
   "execution_count": null,
   "id": "european-mixer",
   "metadata": {},
   "outputs": [],
   "source": [
    "df['pid'].value_counts().sort_values()"
   ]
  },
  {
   "cell_type": "markdown",
   "id": "sustained-constitution",
   "metadata": {},
   "source": [
    "#### Item CF Class"
   ]
  },
  {
   "cell_type": "markdown",
   "id": "early-fiber",
   "metadata": {},
   "source": [
    "Effective Nearest-Neighbor Music Recommendations \n",
    "https://web-ainf.aau.at/pub/jannach/file/Workshop_RecSys_Challenge_2018.pdf"
   ]
  },
  {
   "cell_type": "markdown",
   "id": "assigned-cookbook",
   "metadata": {},
   "source": [
    "Efficient Similarity Based Methods For The Playlist Continuation Task \n",
    "https://dl.acm.org/doi/10.1145/3267471.3267486"
   ]
  },
  {
   "cell_type": "code",
   "execution_count": null,
   "id": "protective-graham",
   "metadata": {},
   "outputs": [],
   "source": [
    "class ItemCF:\n",
    "    def __init__(self, target_playlist_id, num_seed, k):\n",
    "        \"\"\"\n",
    "        Parameters\n",
    "        ----------\n",
    "        target_playlist_id : int\n",
    "            Unique identifier of a playlist for which we're trying to suggest songs\n",
    "        num_seed : int\n",
    "            Number of seed tracks used to create recommendations\n",
    "        k : int\n",
    "            The parameter for kNN algorithm in order to find top k most similar songs to the seed track. \n",
    "        \"\"\"\n",
    "        self.target_playlist_id = target_playlist_id\n",
    "        self.num_seed = num_seed\n",
    "        self.k = k\n",
    "        \n",
    "    def get_seed_tracks(self, df):\n",
    "        # to be done\n",
    "        return\n",
    "             \n",
    "    def filter_by_playlist_length(self, df, len_threshold):\n",
    "        \"\"\"Filters a given dataframe to contain only playlist with more than len_threshold songs.\n",
    "\n",
    "        Parameters\n",
    "        ----------\n",
    "        df : DataFrame\n",
    "            Pandas dataframe containing full information about playlists and songs\n",
    "        len_threshold : int\n",
    "            Threshold used to filter a dataframe based on playlist length\n",
    "\n",
    "        Returns\n",
    "        -------\n",
    "        filtered_df\n",
    "            Filtered dataframe containing only playlists longer than len_threshold\n",
    "        \"\"\"\n",
    "        filtered_df = df.groupby('pid').filter(lambda x: len(x) > len_threshold).copy()\n",
    "        return filtered_df\n",
    "    \n",
    "    def create_playlist_song_matrix(self, df):\n",
    "        \"\"\"Creates a binary playlist-song matrix with unique playlist identifiers as rows and unique song identifiers\n",
    "        as columns. An entry of a matrix is 1 if a song is contained in the playlist, 0 otherwise.\n",
    "\n",
    "        Parameters\n",
    "        ----------\n",
    "        df : DataFrame\n",
    "            Pandas dataframe containing full information about playlists and songs\n",
    "        \n",
    "        Returns\n",
    "        -------\n",
    "        pt_df\n",
    "            Dataframe which stores a binary playlist-song matrix\n",
    "        \"\"\"\n",
    "        # create playlist and song categories\n",
    "        playlist_type = CategoricalDtype(df['pid'].unique(), ordered=True)\n",
    "        song_type = CategoricalDtype(df['tid'].unique(), ordered=True)\n",
    "        \n",
    "        # creation of a playlist-song matrix using a compressed row matrix format\n",
    "        # this is necessary because sparsity prevents us from using groupby or pivot on dataframe directly \n",
    "        row = df['tid'].astype(song_type).cat.codes\n",
    "        col = df['pid'].astype(playlist_type).cat.codes\n",
    "        sparse_matrix = csr_matrix((df['count'], (row, col)), shape=(song_type.categories.size, playlist_type.categories.size))\n",
    "        \n",
    "        # convert back to dataframe\n",
    "        # CSR helps avoid issues with memory and computational complexity but has rather limiting indexing options\n",
    "        pt_df = pd.DataFrame(sparse_matrix.todense(),index=song_type.categories, columns=playlist_type.categories)\n",
    "        return pt_df\n",
    "\n",
    "    def exclude_target_playlist_songs(self, df, seed_track_id):\n",
    "        \"\"\"Creates a slice of a dataframe containing a playlist-song matrix which excludes the songs which are already\n",
    "        in the target playlist. This is necessary because the goal is to recommend songs which are not present in the playlist.\n",
    "        The seed track is kept in order to compute the similarities with other songs. \n",
    "        \n",
    "        Parameters\n",
    "        ----------\n",
    "        df : DataFrame\n",
    "            Pandas dataframe containing a binary playlist-song matrix\n",
    "        \n",
    "        seed_track_id : int\n",
    "            Unique identifier of a seed track\n",
    "        \n",
    "        Returns\n",
    "        -------\n",
    "        slice_df\n",
    "            Dataframe which stores a binary playlist-song matrix excluding the songs already present in the playlist\n",
    "        \"\"\"      \n",
    "        song_ids = df.loc[df[self.target_playlist_id] == 1].index.tolist()\n",
    "        song_ids.remove(seed_track_id)\n",
    "        slice_df = df[~df.index.isin(song_ids)].copy()\n",
    "        return slice_df\n",
    "\n",
    "    def find_k_most_similar_songs(self, df, seed_track_id):\n",
    "        \"\"\"Finds k most similar songs to the seed track using a kNN algorithm with a cosine similarity as a similarity measure.\n",
    "        The songs are considered more similar if they co-occur more often across different playlists.\n",
    "        \n",
    "        Parameters\n",
    "        ----------\n",
    "        df : DataFrame\n",
    "            Pandas dataframe containing a binary playlist-song matrix excluding the songs which are already in the playlist\n",
    "        \n",
    "        seed_track_id : int\n",
    "            Unique identifier of a seed track\n",
    "        \n",
    "        Returns\n",
    "        -------\n",
    "        sim_tracks_id\n",
    "            List of unique song identifiers for the top k most similar songs to the seed track\n",
    "        \n",
    "        track_distances\n",
    "            List of distances between a seed track and top k most similar songs to it\n",
    "        \"\"\"       \n",
    "        # exclude songs already in the target playlist\n",
    "        slice_df = self.exclude_target_playlist_songs(df, seed_track_id)\n",
    "        \n",
    "        # apply knn to get top k most similar tracks to the seed track\n",
    "        knn = NearestNeighbors(metric='cosine', algorithm='brute')\n",
    "        knn.fit(csr_matrix(slice_df.values))\n",
    "        distances, indices = knn.kneighbors(csr_matrix(slice_df.values), n_neighbors=self.k)\n",
    "        \n",
    "        # retrieve ids of top k most similar tracks and their distances to the seed track \n",
    "        seed_track_loc = slice_df.index.get_loc(seed_track_id)\n",
    "        track_distances = distances[seed_track_loc].tolist()\n",
    "        sim_tracks_loc = indices[seed_track_loc].tolist()\n",
    "        sim_tracks_id = slice_df.iloc[sim_tracks_loc,:].index.tolist()\n",
    "        \n",
    "        return sim_tracks_id, track_distances\n",
    "\n",
    "    def get_song_and_artist_name(self, df, song_id):\n",
    "        \"\"\"Given a unique song identifier, returns a song and artist name.\n",
    "\n",
    "        Parameters\n",
    "        ----------\n",
    "        df : DataFrame\n",
    "            Pandas dataframe containing full information about playlists and songs\n",
    "        song_id : int\n",
    "            Unique id of a song for which we need a name and an artist\n",
    "\n",
    "        Returns\n",
    "        -------\n",
    "        song_name\n",
    "            Name of a song\n",
    "        artist_name\n",
    "            Name of an artist performing a song\n",
    "        \"\"\"       \n",
    "        song_df = df.drop(['pid', 'playlist'], axis=1).sort_values(by=['tid']).copy()\n",
    "        song_df.drop_duplicates(subset=['tid'], inplace=True)\n",
    "    \n",
    "        song_name = song_df.loc[song_df.tid == song_id, 'track_name'].item()\n",
    "        artist_name = song_df.loc[song_df.tid == song_id, 'artist_name'].item()\n",
    "    \n",
    "        return song_name, artist_name\n",
    "    \n",
    "    def get_playlist_name(self, df, playlist_id):\n",
    "        \"\"\"Given a unique playlist identifier, returns a playlist name.\n",
    "\n",
    "        Parameters\n",
    "        ----------\n",
    "        df : DataFrame\n",
    "            Pandas dataframe containing full information about playlists and songs\n",
    "        playlist_id : int\n",
    "            Unique id of a playlist for which we need a name\n",
    "\n",
    "        Returns\n",
    "        -------\n",
    "        playlist\n",
    "            Name of a playlist\n",
    "        \"\"\"           \n",
    "        playlist_df = df.drop(['track_name', 'artist_name', 'album_name','tid'], axis=1).sort_values(by=['pid']).copy()\n",
    "        playlist_df.drop_duplicates(subset=['pid'], inplace=True)\n",
    "    \n",
    "        playlist = playlist_df.loc[playlist_df.pid == playlist_id, 'playlist'].item()\n",
    "        return playlist\n",
    "\n",
    "    def get_song_recommendation(self, df, seed_track_id, similar_song_id):\n",
    "        \"\"\"Given a dataframe, seed track identifier and an identifier of a similar song, it prints out a recommendation of\n",
    "        a similar song based on its similarity to the seed track.\n",
    "\n",
    "        Parameters\n",
    "        ----------\n",
    "        df : DataFrame\n",
    "            Pandas dataframe containing full information about playlists and songs\n",
    "        seed_track_id : int\n",
    "            Unique id of a playlist for which we need a name\n",
    "        similar_song_id : int\n",
    "            Unique id of a song to be recommended based on its similarity to the seed track\n",
    "        \"\"\"\n",
    "        (seed_track_name, seed_track_artist) = self.get_song_and_artist_name(df, seed_track_id)\n",
    "        (song_name, artist_name) = self.get_song_and_artist_name(df, similar_song_id)\n",
    "\n",
    "        print('Suggested song for your playlist ' + self.get_playlist_name(df, self.target_playlist_id) +\n",
    "              ' is ' + song_name + ' by ' + artist_name + ' based on its similarity to ' + seed_track_name +\n",
    "              ' by ' + seed_track_artist + '.')\n",
    "        print()"
   ]
  },
  {
   "cell_type": "markdown",
   "id": "criminal-lecture",
   "metadata": {},
   "source": [
    "#### Parameters"
   ]
  },
  {
   "cell_type": "code",
   "execution_count": null,
   "id": "perfect-intermediate",
   "metadata": {},
   "outputs": [],
   "source": [
    "len_threshold = 100\n",
    "k = 4\n",
    "num_seed = 5\n",
    "target_playlist_id = 'pid_4998'\n",
    "seed_ids = ['tid_9133', 'tid_482', 'tid_14387', 'tid_16887', 'tid_40339']"
   ]
  },
  {
   "cell_type": "markdown",
   "id": "timely-capability",
   "metadata": {},
   "source": [
    "#### Main part"
   ]
  },
  {
   "cell_type": "code",
   "execution_count": null,
   "id": "median-tucson",
   "metadata": {},
   "outputs": [],
   "source": [
    "itemcf = ItemCF(target_playlist_id, num_seed, k)\n",
    "\n",
    "filtered_df = itemcf.filter_by_playlist_length(df, len_threshold)\n",
    "# pt_df = itemcf.create_playlist_song_matrix(filtered_df)\n",
    "\n",
    "# for seed_track_id in seed_ids:\n",
    "#    sim_tracks_id, track_distances = itemcf.find_k_most_similar_songs(pt_df, seed_track_id)\n",
    "    \n",
    "#    for similar_song_id in sim_tracks_id:\n",
    "#        itemcf.get_song_recommendation(filtered_df, seed_track_id, similar_song_id)"
   ]
  },
  {
   "cell_type": "code",
   "execution_count": null,
   "id": "atomic-simpson",
   "metadata": {},
   "outputs": [],
   "source": [
    "filtered_df.sample(n = 5)"
   ]
  },
  {
   "cell_type": "markdown",
   "id": "coated-appraisal",
   "metadata": {},
   "source": [
    "#### TBD"
   ]
  },
  {
   "cell_type": "markdown",
   "id": "eleven-whale",
   "metadata": {},
   "source": [
    "-Add seed track list to the class instead of having it as an argument outside of it\\\n",
    "-Remove the seed track itself from the list of similar tracks, was kept to see if the algo is working correctly\\\n",
    "-Do train-test split\\n\n",
    "-Maybe move the main part inside the class as well under generate_recommendation_list function?"
   ]
  },
  {
   "cell_type": "markdown",
   "id": "rational-inflation",
   "metadata": {},
   "source": [
    "#### If enough time:"
   ]
  },
  {
   "cell_type": "markdown",
   "id": "taken-removal",
   "metadata": {},
   "source": [
    "-Add TF-IDF weights to make up for high popularity bias\\n\n",
    "-Recommend based on playlist title if a distance from seed track to rec track is larger than a threshold"
   ]
  }
 ],
 "metadata": {
  "kernelspec": {
   "display_name": "Python 3",
   "language": "python",
   "name": "python3"
  },
  "language_info": {
   "codemirror_mode": {
    "name": "ipython",
    "version": 3
   },
   "file_extension": ".py",
   "mimetype": "text/x-python",
   "name": "python",
   "nbconvert_exporter": "python",
   "pygments_lexer": "ipython3",
   "version": "3.8.3"
  }
 },
 "nbformat": 4,
 "nbformat_minor": 5
}
